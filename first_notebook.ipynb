{
 "cells": [
  {
   "cell_type": "markdown",
   "id": "7455efb8",
   "metadata": {},
   "source": [
    "# The first notebook\n",
    "\n",
    "To test and learn Classiq.\n",
    "\n",
    "Author: Emil Henningsen."
   ]
  },
  {
   "cell_type": "code",
   "execution_count": 1,
   "id": "71d4c44d",
   "metadata": {},
   "outputs": [],
   "source": [
    "from classiq import *"
   ]
  }
 ],
 "metadata": {
  "kernelspec": {
   "display_name": ".venv",
   "language": "python",
   "name": "python3"
  },
  "language_info": {
   "codemirror_mode": {
    "name": "ipython",
    "version": 3
   },
   "file_extension": ".py",
   "mimetype": "text/x-python",
   "name": "python",
   "nbconvert_exporter": "python",
   "pygments_lexer": "ipython3",
   "version": "3.12.10"
  }
 },
 "nbformat": 4,
 "nbformat_minor": 5
}
