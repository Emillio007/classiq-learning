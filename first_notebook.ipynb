{
 "cells": [
  {
   "cell_type": "markdown",
   "id": "7455efb8",
   "metadata": {},
   "source": [
    "# The first notebook\n",
    "\n",
    "To test and learn Classiq.\n",
    "\n",
    "Author: Emil Henningsen."
   ]
  }
 ],
 "metadata": {
  "kernelspec": {
   "display_name": ".venv",
   "language": "python",
   "name": "python3"
  },
  "language_info": {
   "name": "python",
   "version": "3.12.10"
  }
 },
 "nbformat": 4,
 "nbformat_minor": 5
}
