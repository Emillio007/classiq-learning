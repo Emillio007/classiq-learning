{
 "cells": [
  {
   "cell_type": "markdown",
   "id": "7455efb8",
   "metadata": {},
   "source": [
    "# The first notebook\n",
    "\n",
    "To test and learn Classiq.\n",
    "\n",
    "Author: Emil Henningsen."
   ]
  },
  {
   "cell_type": "code",
   "execution_count": 1,
   "id": "71d4c44d",
   "metadata": {},
   "outputs": [],
   "source": [
    "from classiq import *"
   ]
  },
  {
   "cell_type": "code",
   "execution_count": 2,
   "id": "3067539e",
   "metadata": {},
   "outputs": [
    {
     "ename": "ClassiqAPIError",
     "evalue": "Call to API failed with code 401: Not authenticated\nIf you need further assistance, please reach out on our Community Slack channel at: https://short.classiq.io/join-slack or open a support ticket at: https://classiq-community.freshdesk.com/support/tickets/new",
     "output_type": "error",
     "traceback": [
      "\u001b[31m---------------------------------------------------------------------------\u001b[39m",
      "\u001b[31mClassiqAPIError\u001b[39m                           Traceback (most recent call last)",
      "\u001b[36mCell\u001b[39m\u001b[36m \u001b[39m\u001b[32mIn[2]\u001b[39m\u001b[32m, line 25\u001b[39m\n\u001b[32m     21\u001b[39m     res |= a + b  \u001b[38;5;66;03m# should be 8\u001b[39;00m\n\u001b[32m     24\u001b[39m model = create_model(main)\n\u001b[32m---> \u001b[39m\u001b[32m25\u001b[39m quantum_program = \u001b[43msynthesize\u001b[49m\u001b[43m(\u001b[49m\u001b[43mmodel\u001b[49m\u001b[43m)\u001b[49m\n\u001b[32m     27\u001b[39m show(quantum_program)\n",
      "\u001b[36mFile \u001b[39m\u001b[32mc:\\Users\\emilh\\Desktop\\code\\Classiq\\classiq-learning\\.venv\\Lib\\site-packages\\classiq\\synthesis.py:92\u001b[39m, in \u001b[36msynthesize\u001b[39m\u001b[34m(model, auto_show, constraints, preferences)\u001b[39m\n\u001b[32m     90\u001b[39m \u001b[38;5;28;01melse\u001b[39;00m:\n\u001b[32m     91\u001b[39m     serialized_model = model\n\u001b[32m---> \u001b[39m\u001b[32m92\u001b[39m result = \u001b[43masync_utils\u001b[49m\u001b[43m.\u001b[49m\u001b[43mrun\u001b[49m\u001b[43m(\u001b[49m\u001b[43msynthesize_async\u001b[49m\u001b[43m(\u001b[49m\u001b[43mserialized_model\u001b[49m\u001b[43m)\u001b[49m\u001b[43m)\u001b[49m\n\u001b[32m     93\u001b[39m \u001b[38;5;28;01mif\u001b[39;00m auto_show:\n\u001b[32m     94\u001b[39m     show(result)\n",
      "\u001b[36mFile \u001b[39m\u001b[32mc:\\Users\\emilh\\Desktop\\code\\Classiq\\classiq-learning\\.venv\\Lib\\site-packages\\classiq\\_internals\\async_utils.py:37\u001b[39m, in \u001b[36mrun\u001b[39m\u001b[34m(coro)\u001b[39m\n\u001b[32m     32\u001b[39m \u001b[38;5;28;01mdef\u001b[39;00m\u001b[38;5;250m \u001b[39m\u001b[34mrun\u001b[39m(coro: Awaitable[T]) -> T:\n\u001b[32m     33\u001b[39m     \u001b[38;5;66;03m# Use this function instead of asyncio.run, since it ALWAYS\u001b[39;00m\n\u001b[32m     34\u001b[39m     \u001b[38;5;66;03m# creates a new event loop and clears the thread event loop.\u001b[39;00m\n\u001b[32m     35\u001b[39m     \u001b[38;5;66;03m# Never use asyncio.run in library code.\u001b[39;00m\n\u001b[32m     36\u001b[39m     loop = get_event_loop()\n\u001b[32m---> \u001b[39m\u001b[32m37\u001b[39m     \u001b[38;5;28;01mreturn\u001b[39;00m \u001b[43mloop\u001b[49m\u001b[43m.\u001b[49m\u001b[43mrun_until_complete\u001b[49m\u001b[43m(\u001b[49m\u001b[43mcoro\u001b[49m\u001b[43m)\u001b[49m\n",
      "\u001b[36mFile \u001b[39m\u001b[32mc:\\Users\\emilh\\Desktop\\code\\Classiq\\classiq-learning\\.venv\\Lib\\site-packages\\nest_asyncio.py:98\u001b[39m, in \u001b[36m_patch_loop.<locals>.run_until_complete\u001b[39m\u001b[34m(self, future)\u001b[39m\n\u001b[32m     95\u001b[39m \u001b[38;5;28;01mif\u001b[39;00m \u001b[38;5;129;01mnot\u001b[39;00m f.done():\n\u001b[32m     96\u001b[39m     \u001b[38;5;28;01mraise\u001b[39;00m \u001b[38;5;167;01mRuntimeError\u001b[39;00m(\n\u001b[32m     97\u001b[39m         \u001b[33m'\u001b[39m\u001b[33mEvent loop stopped before Future completed.\u001b[39m\u001b[33m'\u001b[39m)\n\u001b[32m---> \u001b[39m\u001b[32m98\u001b[39m \u001b[38;5;28;01mreturn\u001b[39;00m \u001b[43mf\u001b[49m\u001b[43m.\u001b[49m\u001b[43mresult\u001b[49m\u001b[43m(\u001b[49m\u001b[43m)\u001b[49m\n",
      "\u001b[36mFile \u001b[39m\u001b[32m~\\AppData\\Local\\Programs\\Python\\Python312\\Lib\\asyncio\\futures.py:202\u001b[39m, in \u001b[36mFuture.result\u001b[39m\u001b[34m(self)\u001b[39m\n\u001b[32m    200\u001b[39m \u001b[38;5;28mself\u001b[39m.__log_traceback = \u001b[38;5;28;01mFalse\u001b[39;00m\n\u001b[32m    201\u001b[39m \u001b[38;5;28;01mif\u001b[39;00m \u001b[38;5;28mself\u001b[39m._exception \u001b[38;5;129;01mis\u001b[39;00m \u001b[38;5;129;01mnot\u001b[39;00m \u001b[38;5;28;01mNone\u001b[39;00m:\n\u001b[32m--> \u001b[39m\u001b[32m202\u001b[39m     \u001b[38;5;28;01mraise\u001b[39;00m \u001b[38;5;28mself\u001b[39m._exception.with_traceback(\u001b[38;5;28mself\u001b[39m._exception_tb)\n\u001b[32m    203\u001b[39m \u001b[38;5;28;01mreturn\u001b[39;00m \u001b[38;5;28mself\u001b[39m._result\n",
      "\u001b[36mFile \u001b[39m\u001b[32m~\\AppData\\Local\\Programs\\Python\\Python312\\Lib\\asyncio\\tasks.py:314\u001b[39m, in \u001b[36mTask.__step_run_and_handle_result\u001b[39m\u001b[34m(***failed resolving arguments***)\u001b[39m\n\u001b[32m    310\u001b[39m \u001b[38;5;28;01mtry\u001b[39;00m:\n\u001b[32m    311\u001b[39m     \u001b[38;5;28;01mif\u001b[39;00m exc \u001b[38;5;129;01mis\u001b[39;00m \u001b[38;5;28;01mNone\u001b[39;00m:\n\u001b[32m    312\u001b[39m         \u001b[38;5;66;03m# We use the `send` method directly, because coroutines\u001b[39;00m\n\u001b[32m    313\u001b[39m         \u001b[38;5;66;03m# don't have `__iter__` and `__next__` methods.\u001b[39;00m\n\u001b[32m--> \u001b[39m\u001b[32m314\u001b[39m         result = \u001b[43mcoro\u001b[49m\u001b[43m.\u001b[49m\u001b[43msend\u001b[49m\u001b[43m(\u001b[49m\u001b[38;5;28;43;01mNone\u001b[39;49;00m\u001b[43m)\u001b[49m\n\u001b[32m    315\u001b[39m     \u001b[38;5;28;01melse\u001b[39;00m:\n\u001b[32m    316\u001b[39m         result = coro.throw(exc)\n",
      "\u001b[36mFile \u001b[39m\u001b[32mc:\\Users\\emilh\\Desktop\\code\\Classiq\\classiq-learning\\.venv\\Lib\\site-packages\\classiq\\synthesis.py:57\u001b[39m, in \u001b[36msynthesize_async\u001b[39m\u001b[34m(serialized_model)\u001b[39m\n\u001b[32m     53\u001b[39m \u001b[38;5;28;01masync\u001b[39;00m \u001b[38;5;28;01mdef\u001b[39;00m\u001b[38;5;250m \u001b[39m\u001b[34msynthesize_async\u001b[39m(\n\u001b[32m     54\u001b[39m     serialized_model: SerializedModel,\n\u001b[32m     55\u001b[39m ) -> QuantumProgram:\n\u001b[32m     56\u001b[39m     model = Model.model_validate_json(serialized_model)\n\u001b[32m---> \u001b[39m\u001b[32m57\u001b[39m     quantum_program = \u001b[38;5;28;01mawait\u001b[39;00m ApiWrapper.call_generation_task(model)\n\u001b[32m     58\u001b[39m     \u001b[38;5;28;01mif\u001b[39;00m quantum_program.should_warn:\n\u001b[32m     59\u001b[39m         quantum_program.raise_warnings()\n",
      "\u001b[36mFile \u001b[39m\u001b[32mc:\\Users\\emilh\\Desktop\\code\\Classiq\\classiq-learning\\.venv\\Lib\\site-packages\\classiq\\_internals\\api_wrapper.py:139\u001b[39m, in \u001b[36mApiWrapper.call_generation_task\u001b[39m\u001b[34m(cls, model, http_client)\u001b[39m\n\u001b[32m    133\u001b[39m \u001b[38;5;129m@classmethod\u001b[39m\n\u001b[32m    134\u001b[39m \u001b[38;5;28;01masync\u001b[39;00m \u001b[38;5;28;01mdef\u001b[39;00m\u001b[38;5;250m \u001b[39m\u001b[34mcall_generation_task\u001b[39m(\n\u001b[32m    135\u001b[39m     \u001b[38;5;28mcls\u001b[39m,\n\u001b[32m    136\u001b[39m     model: Model,\n\u001b[32m    137\u001b[39m     http_client: Optional[httpx.AsyncClient] = \u001b[38;5;28;01mNone\u001b[39;00m,\n\u001b[32m    138\u001b[39m ) -> generator_result.QuantumProgram:\n\u001b[32m--> \u001b[39m\u001b[32m139\u001b[39m     \u001b[38;5;28;01mreturn\u001b[39;00m \u001b[38;5;28;01mawait\u001b[39;00m \u001b[38;5;28mcls\u001b[39m._call_job_and_poll(\n\u001b[32m    140\u001b[39m         routes.TASKS_GENERATE_FULL_PATH,\n\u001b[32m    141\u001b[39m         model,\n\u001b[32m    142\u001b[39m         generator_result.QuantumProgram,\n\u001b[32m    143\u001b[39m         http_client,\n\u001b[32m    144\u001b[39m     )\n",
      "\u001b[36mFile \u001b[39m\u001b[32mc:\\Users\\emilh\\Desktop\\code\\Classiq\\classiq-learning\\.venv\\Lib\\site-packages\\classiq\\_internals\\api_wrapper.py:128\u001b[39m, in \u001b[36mApiWrapper._call_job_and_poll\u001b[39m\u001b[34m(cls, url, job_input, result_type, http_client)\u001b[39m\n\u001b[32m    119\u001b[39m \u001b[38;5;129m@classmethod\u001b[39m\n\u001b[32m    120\u001b[39m \u001b[38;5;28;01masync\u001b[39;00m \u001b[38;5;28;01mdef\u001b[39;00m\u001b[38;5;250m \u001b[39m\u001b[34m_call_job_and_poll\u001b[39m(\n\u001b[32m    121\u001b[39m     \u001b[38;5;28mcls\u001b[39m,\n\u001b[32m   (...)\u001b[39m\u001b[32m    125\u001b[39m     http_client: Optional[httpx.AsyncClient],\n\u001b[32m    126\u001b[39m ) -> ResultType:\n\u001b[32m    127\u001b[39m     poller = JobPoller(base_url=url)\n\u001b[32m--> \u001b[39m\u001b[32m128\u001b[39m     result = \u001b[38;5;28;01mawait\u001b[39;00m poller.run_pydantic(\n\u001b[32m    129\u001b[39m         job_input, timeout_sec=\u001b[38;5;28;01mNone\u001b[39;00m, http_client=http_client\n\u001b[32m    130\u001b[39m     )\n\u001b[32m    131\u001b[39m     \u001b[38;5;28;01mreturn\u001b[39;00m _parse_job_response(result, result_type)\n",
      "\u001b[36mFile \u001b[39m\u001b[32mc:\\Users\\emilh\\Desktop\\code\\Classiq\\classiq-learning\\.venv\\Lib\\site-packages\\classiq\\_internals\\jobs.py:183\u001b[39m, in \u001b[36mJobPoller.run_pydantic\u001b[39m\u001b[34m(self, model, timeout_sec, http_client)\u001b[39m\n\u001b[32m    173\u001b[39m \u001b[38;5;28;01masync\u001b[39;00m \u001b[38;5;28;01mdef\u001b[39;00m\u001b[38;5;250m \u001b[39m\u001b[34mrun_pydantic\u001b[39m(\n\u001b[32m    174\u001b[39m     \u001b[38;5;28mself\u001b[39m,\n\u001b[32m    175\u001b[39m     model: pydantic.BaseModel,\n\u001b[32m   (...)\u001b[39m\u001b[32m    180\u001b[39m     \u001b[38;5;66;03m# This was added because JSON serializer doesn't serialize complex and UUID,\u001b[39;00m\n\u001b[32m    181\u001b[39m     \u001b[38;5;66;03m# while pydantic does. We should add support for smarter json serialization.\u001b[39;00m\n\u001b[32m    182\u001b[39m     body = json.loads(model.model_dump_json())\n\u001b[32m--> \u001b[39m\u001b[32m183\u001b[39m     \u001b[38;5;28;01mreturn\u001b[39;00m \u001b[38;5;28;01mawait\u001b[39;00m \u001b[38;5;28mself\u001b[39m.run(body, timeout_sec, http_client=http_client)\n",
      "\u001b[36mFile \u001b[39m\u001b[32mc:\\Users\\emilh\\Desktop\\code\\Classiq\\classiq-learning\\.venv\\Lib\\site-packages\\classiq\\_internals\\jobs.py:160\u001b[39m, in \u001b[36mJobPoller.run\u001b[39m\u001b[34m(self, body, timeout_sec, http_client)\u001b[39m\n\u001b[32m    153\u001b[39m \u001b[38;5;28;01masync\u001b[39;00m \u001b[38;5;28;01mdef\u001b[39;00m\u001b[38;5;250m \u001b[39m\u001b[34mrun\u001b[39m(\n\u001b[32m    154\u001b[39m     \u001b[38;5;28mself\u001b[39m,\n\u001b[32m    155\u001b[39m     body: \u001b[38;5;28mdict\u001b[39m,\n\u001b[32m    156\u001b[39m     timeout_sec: Optional[\u001b[38;5;28mfloat\u001b[39m],\n\u001b[32m    157\u001b[39m     http_client: Optional[httpx.AsyncClient] = \u001b[38;5;28;01mNone\u001b[39;00m,\n\u001b[32m    158\u001b[39m ) -> GeneralJobDescription:\n\u001b[32m    159\u001b[39m     \u001b[38;5;28;01masync\u001b[39;00m \u001b[38;5;28;01mwith\u001b[39;00m client().use_client_or_create(http_client) \u001b[38;5;28;01mas\u001b[39;00m async_client:\n\u001b[32m--> \u001b[39m\u001b[32m160\u001b[39m         submit_response = \u001b[38;5;28;01mawait\u001b[39;00m \u001b[38;5;28mself\u001b[39m._submit(http_client=async_client, body=body)\n\u001b[32m    161\u001b[39m         job_id = \u001b[38;5;28mself\u001b[39m._parse_job_id_response(response=submit_response)\n\u001b[32m    162\u001b[39m         poll_url = \u001b[38;5;28mself\u001b[39m._make_poll_url(job_id=job_id)\n",
      "\u001b[36mFile \u001b[39m\u001b[32mc:\\Users\\emilh\\Desktop\\code\\Classiq\\classiq-learning\\.venv\\Lib\\site-packages\\classiq\\_internals\\jobs.py:96\u001b[39m, in \u001b[36mJobPoller._submit\u001b[39m\u001b[34m(self, http_client, body)\u001b[39m\n\u001b[32m     93\u001b[39m \u001b[38;5;28;01masync\u001b[39;00m \u001b[38;5;28;01mdef\u001b[39;00m\u001b[38;5;250m \u001b[39m\u001b[34m_submit\u001b[39m(\n\u001b[32m     94\u001b[39m     \u001b[38;5;28mself\u001b[39m, http_client: httpx.AsyncClient, body: \u001b[38;5;28mdict\u001b[39m\n\u001b[32m     95\u001b[39m ) -> httpx.Response:\n\u001b[32m---> \u001b[39m\u001b[32m96\u001b[39m     \u001b[38;5;28;01mreturn\u001b[39;00m \u001b[38;5;28;01mawait\u001b[39;00m \u001b[38;5;28mself\u001b[39m._request(\n\u001b[32m     97\u001b[39m         http_client=http_client, http_method=\u001b[33m\"\u001b[39m\u001b[33mPOST\u001b[39m\u001b[33m\"\u001b[39m, url=\u001b[38;5;28mself\u001b[39m._base_url, body=body\n\u001b[32m     98\u001b[39m     )\n",
      "\u001b[36mFile \u001b[39m\u001b[32mc:\\Users\\emilh\\Desktop\\code\\Classiq\\classiq-learning\\.venv\\Lib\\site-packages\\classiq\\_internals\\jobs.py:85\u001b[39m, in \u001b[36mJobPoller._request\u001b[39m\u001b[34m(self, http_client, http_method, url, body)\u001b[39m\n\u001b[32m     78\u001b[39m \u001b[38;5;28;01masync\u001b[39;00m \u001b[38;5;28;01mdef\u001b[39;00m\u001b[38;5;250m \u001b[39m\u001b[34m_request\u001b[39m(\n\u001b[32m     79\u001b[39m     \u001b[38;5;28mself\u001b[39m,\n\u001b[32m     80\u001b[39m     http_client: httpx.AsyncClient,\n\u001b[32m   (...)\u001b[39m\u001b[32m     83\u001b[39m     body: Optional[\u001b[38;5;28mdict\u001b[39m] = \u001b[38;5;28;01mNone\u001b[39;00m,\n\u001b[32m     84\u001b[39m ) -> httpx.Response:\n\u001b[32m---> \u001b[39m\u001b[32m85\u001b[39m     \u001b[38;5;28;01mreturn\u001b[39;00m \u001b[38;5;28;01mawait\u001b[39;00m client().request(\n\u001b[32m     86\u001b[39m         http_client=http_client,\n\u001b[32m     87\u001b[39m         method=http_method,\n\u001b[32m     88\u001b[39m         url=url,\n\u001b[32m     89\u001b[39m         json=body,\n\u001b[32m     90\u001b[39m         headers=\u001b[38;5;28mself\u001b[39m._additional_headers,\n\u001b[32m     91\u001b[39m     )\n",
      "\u001b[36mFile \u001b[39m\u001b[32mc:\\Users\\emilh\\Desktop\\code\\Classiq\\classiq-learning\\.venv\\Lib\\site-packages\\classiq\\_internals\\client.py:115\u001b[39m, in \u001b[36mtry_again_on_failure.<locals>.wrapper\u001b[39m\u001b[34m(*args, **kwargs)\u001b[39m\n\u001b[32m    113\u001b[39m \u001b[38;5;28;01mfor\u001b[39;00m i \u001b[38;5;129;01min\u001b[39;00m \u001b[38;5;28mrange\u001b[39m(_RETRY_COUNT):\n\u001b[32m    114\u001b[39m     \u001b[38;5;28;01mtry\u001b[39;00m:\n\u001b[32m--> \u001b[39m\u001b[32m115\u001b[39m         \u001b[38;5;28;01mreturn\u001b[39;00m \u001b[38;5;28;01mawait\u001b[39;00m func(*args, **kwargs)\n\u001b[32m    116\u001b[39m     \u001b[38;5;28;01mexcept\u001b[39;00m ClassiqExpiredTokenError:\n\u001b[32m    117\u001b[39m         _logger.info(\n\u001b[32m    118\u001b[39m             \u001b[33m\"\u001b[39m\u001b[33mToken expired when trying to \u001b[39m\u001b[38;5;132;01m%s\u001b[39;00m\u001b[33m with args \u001b[39m\u001b[38;5;132;01m%s\u001b[39;00m\u001b[33m \u001b[39m\u001b[38;5;132;01m%s\u001b[39;00m\u001b[33m\"\u001b[39m,\n\u001b[32m    119\u001b[39m             func,\n\u001b[32m   (...)\u001b[39m\u001b[32m    122\u001b[39m             exc_info=\u001b[38;5;28;01mTrue\u001b[39;00m,\n\u001b[32m    123\u001b[39m         )\n",
      "\u001b[36mFile \u001b[39m\u001b[32mc:\\Users\\emilh\\Desktop\\code\\Classiq\\classiq-learning\\.venv\\Lib\\site-packages\\classiq\\_internals\\client.py:254\u001b[39m, in \u001b[36mClient.request\u001b[39m\u001b[34m(self, http_client, method, url, json, params, headers)\u001b[39m\n\u001b[32m    240\u001b[39m response = \u001b[38;5;28;01mawait\u001b[39;00m http_client.request(\n\u001b[32m    241\u001b[39m     method=method,\n\u001b[32m    242\u001b[39m     url=url,\n\u001b[32m   (...)\u001b[39m\u001b[32m    245\u001b[39m     headers=headers,\n\u001b[32m    246\u001b[39m )\n\u001b[32m    247\u001b[39m _logger.debug(\n\u001b[32m    248\u001b[39m     \u001b[33m\"\u001b[39m\u001b[33mHTTP response: \u001b[39m\u001b[38;5;132;01m%s\u001b[39;00m\u001b[33m \u001b[39m\u001b[38;5;132;01m%s\u001b[39;00m\u001b[33m \u001b[39m\u001b[38;5;132;01m%d\u001b[39;00m\u001b[33m (\u001b[39m\u001b[38;5;132;01m%.0f\u001b[39;00m\u001b[33mms)\u001b[39m\u001b[33m\"\u001b[39m,\n\u001b[32m    249\u001b[39m     method.upper(),\n\u001b[32m   (...)\u001b[39m\u001b[32m    252\u001b[39m     (time.monotonic() - start_time) * \u001b[32m1000\u001b[39m,\n\u001b[32m    253\u001b[39m )\n\u001b[32m--> \u001b[39m\u001b[32m254\u001b[39m \u001b[38;5;28;43mself\u001b[39;49m\u001b[43m.\u001b[49m\u001b[43mhandle_response\u001b[49m\u001b[43m(\u001b[49m\u001b[43mresponse\u001b[49m\u001b[43m)\u001b[49m\n\u001b[32m    255\u001b[39m \u001b[38;5;28;01mreturn\u001b[39;00m response\n",
      "\u001b[36mFile \u001b[39m\u001b[32mc:\\Users\\emilh\\Desktop\\code\\Classiq\\classiq-learning\\.venv\\Lib\\site-packages\\classiq\\_internals\\client.py:205\u001b[39m, in \u001b[36mClient.handle_response\u001b[39m\u001b[34m(self, response)\u001b[39m\n\u001b[32m    203\u001b[39m \u001b[38;5;28mself\u001b[39m._handle_warnings(response)\n\u001b[32m    204\u001b[39m \u001b[38;5;28;01mif\u001b[39;00m response.is_error:\n\u001b[32m--> \u001b[39m\u001b[32m205\u001b[39m     \u001b[38;5;28;43mself\u001b[39;49m\u001b[43m.\u001b[49m\u001b[43m_handle_error\u001b[49m\u001b[43m(\u001b[49m\u001b[43mresponse\u001b[49m\u001b[43m)\u001b[49m\n\u001b[32m    206\u001b[39m \u001b[38;5;28mself\u001b[39m._handle_success(response)\n",
      "\u001b[36mFile \u001b[39m\u001b[32mc:\\Users\\emilh\\Desktop\\code\\Classiq\\classiq-learning\\.venv\\Lib\\site-packages\\classiq\\_internals\\client.py:224\u001b[39m, in \u001b[36mClient._handle_error\u001b[39m\u001b[34m(response)\u001b[39m\n\u001b[32m    222\u001b[39m \u001b[38;5;28;01mexcept\u001b[39;00m \u001b[38;5;167;01mException\u001b[39;00m:  \u001b[38;5;66;03m# noqa: S110\u001b[39;00m\n\u001b[32m    223\u001b[39m     \u001b[38;5;28;01mpass\u001b[39;00m\n\u001b[32m--> \u001b[39m\u001b[32m224\u001b[39m \u001b[38;5;28;01mraise\u001b[39;00m ClassiqAPIError(message, response.status_code)\n",
      "\u001b[31mClassiqAPIError\u001b[39m: Call to API failed with code 401: Not authenticated\nIf you need further assistance, please reach out on our Community Slack channel at: https://short.classiq.io/join-slack or open a support ticket at: https://classiq-community.freshdesk.com/support/tickets/new"
     ]
    }
   ],
   "source": [
    "@qfunc\n",
    "def get_3(x: Output[QArray]) -> None:\n",
    "    allocate(2, x)\n",
    "    X(x[0])\n",
    "    X(x[1])\n",
    "\n",
    "\n",
    "@qfunc\n",
    "def get_5(x: Output[QArray]) -> None:\n",
    "    allocate(3, x)\n",
    "    X(x[0])\n",
    "    X(x[2])\n",
    "\n",
    "\n",
    "@qfunc\n",
    "def main(res: Output[QNum]) -> None:\n",
    "    a = QNum(\"a\")\n",
    "    b = QNum(\"b\")\n",
    "    get_3(a)\n",
    "    get_5(b)\n",
    "    res |= a + b  # should be 8\n",
    "\n",
    "\n",
    "model = create_model(main)\n",
    "quantum_program = synthesize(model)\n",
    "\n",
    "show(quantum_program)"
   ]
  }
 ],
 "metadata": {
  "kernelspec": {
   "display_name": ".venv",
   "language": "python",
   "name": "python3"
  },
  "language_info": {
   "codemirror_mode": {
    "name": "ipython",
    "version": 3
   },
   "file_extension": ".py",
   "mimetype": "text/x-python",
   "name": "python",
   "nbconvert_exporter": "python",
   "pygments_lexer": "ipython3",
   "version": "3.12.10"
  }
 },
 "nbformat": 4,
 "nbformat_minor": 5
}
